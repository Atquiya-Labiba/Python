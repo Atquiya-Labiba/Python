{
  "nbformat": 4,
  "nbformat_minor": 0,
  "metadata": {
    "colab": {
      "provenance": []
    },
    "kernelspec": {
      "name": "python3",
      "display_name": "Python 3"
    },
    "language_info": {
      "name": "python"
    }
  },
  "cells": [
    {
      "cell_type": "markdown",
      "source": [
        "An array can be reversed in many ways. This notebook contains all the possible ways to reverse a Numpy array."
      ],
      "metadata": {
        "id": "0XFSDPHLVb2j"
      }
    },
    {
      "cell_type": "markdown",
      "source": [
        "# **Importing libraries**"
      ],
      "metadata": {
        "id": "4bNb8qlyVoUC"
      }
    },
    {
      "cell_type": "code",
      "execution_count": 1,
      "metadata": {
        "id": "-sE_O_6GVZTe"
      },
      "outputs": [],
      "source": [
        "import numpy as np"
      ]
    },
    {
      "cell_type": "markdown",
      "source": [
        "# **Techniques**"
      ],
      "metadata": {
        "id": "aTTuH0y5VuC2"
      }
    },
    {
      "cell_type": "markdown",
      "source": [
        "**Reversing a 1-D array**"
      ],
      "metadata": {
        "id": "UTPPiAzjWD5r"
      }
    },
    {
      "cell_type": "code",
      "source": [
        "#Slicing\n",
        "def rev_arr_slicing(array):\n",
        "  arr=array[::-1]\n",
        "  return arr\n",
        "\n",
        "#Using np.flip()\n",
        "def rev_flip(array):\n",
        "  arr=np.flip(array)\n",
        "  return arr\n",
        "\n",
        "#Using np.arange()\n",
        "def rev_arange(array):\n",
        "  arr=np.arange(len(array),0,-1)\n",
        "  return arr\n",
        "\n",
        "\n",
        "\n",
        "#Driver Code\n",
        "arr=np.array([1,2,3,4,5,6])\n",
        "result=rev_arr_slicing(arr)\n",
        "print(\"Reversed using slicing: \",result)\n",
        "\n",
        "result=rev_flip(arr)\n",
        "print(\"Reversed using flip: \",result)\n",
        "\n",
        "result=rev_arange(arr)\n",
        "print(\"Reversed using arange: \",result)"
      ],
      "metadata": {
        "colab": {
          "base_uri": "https://localhost:8080/"
        },
        "id": "8Yw44M0hVwRq",
        "outputId": "87f0ff9b-1d9f-4e45-b426-12ae8b90144e"
      },
      "execution_count": 8,
      "outputs": [
        {
          "output_type": "stream",
          "name": "stdout",
          "text": [
            "Reversed using slicing:  [6 5 4 3 2 1]\n",
            "Reversed using flip:  [6 5 4 3 2 1]\n",
            "Reversed using arange:  [6 5 4 3 2 1]\n"
          ]
        }
      ]
    },
    {
      "cell_type": "markdown",
      "source": [
        "**Rerversing a 2-D array**"
      ],
      "metadata": {
        "id": "KeJhXy3FYa_6"
      }
    },
    {
      "cell_type": "code",
      "source": [
        "#Using np.flip()\n",
        "def rev_flip_vert(array):\n",
        "  arr=np.flip(array,axis=0)\n",
        "  return arr\n",
        "\n",
        "def rev_hor_flip(array):\n",
        "  arr=np.flip(array,axis=1)\n",
        "  return arr\n",
        "\n",
        "def rev_flip(array):\n",
        "  arr=np.flip(array)\n",
        "  return arr\n",
        "#Driver Code\n",
        "array=np.array([[1,2,3,4],\n",
        "                [5,6,7,8],\n",
        "                [9,10,11,12]])\n",
        "\n",
        "result=rev_flip_vert(array)\n",
        "print(\"Reversed using Vertical flip: \", result)\n",
        "\n",
        "\n",
        "result=rev_hor_flip(array)\n",
        "print(\"Reversed using horizontal flip: \", result)\n",
        "\n",
        "result=rev_flip(array)\n",
        "print(\"Reversed using flip both axes: \", result)"
      ],
      "metadata": {
        "colab": {
          "base_uri": "https://localhost:8080/"
        },
        "id": "iUACGaTKYegS",
        "outputId": "ed7536a9-1d70-427a-fa45-e73961c051c1"
      },
      "execution_count": 13,
      "outputs": [
        {
          "output_type": "stream",
          "name": "stdout",
          "text": [
            "Reversed using Vertical flip:  [[ 9 10 11 12]\n",
            " [ 5  6  7  8]\n",
            " [ 1  2  3  4]]\n",
            "Reversed using horizontal flip:  [[ 4  3  2  1]\n",
            " [ 8  7  6  5]\n",
            " [12 11 10  9]]\n",
            "Reversed using flip both axes:  [[12 11 10  9]\n",
            " [ 8  7  6  5]\n",
            " [ 4  3  2  1]]\n"
          ]
        }
      ]
    }
  ]
}